{
 "cells": [
  {
   "cell_type": "code",
   "execution_count": 1,
   "id": "31f6d5fc",
   "metadata": {},
   "outputs": [],
   "source": [
    "import warnings\n",
    "warnings.filterwarnings(\"ignore\")\n",
    "import pandas as pd\n",
    "from pulp import *"
   ]
  },
  {
   "cell_type": "code",
   "execution_count": 2,
   "id": "29fef512",
   "metadata": {},
   "outputs": [],
   "source": [
    "candy = pd.read_csv('candy.csv')"
   ]
  },
  {
   "cell_type": "markdown",
   "id": "bd44c990",
   "metadata": {},
   "source": [
    "Goal: create a basket of candies that minimizes cost and has\n",
    "\n",
    "* an average deliciousness of 50%\n",
    "* no more than 6% average fat per piece\n",
    "* no more than 1.2% average salt per piece\n",
    "* no more than 13% average sugar per piece\n",
    "* contains at least some of each candy"
   ]
  },
  {
   "cell_type": "code",
   "execution_count": 3,
   "id": "fd0b9611",
   "metadata": {},
   "outputs": [
    {
     "data": {
      "text/html": [
       "<div>\n",
       "<style scoped>\n",
       "    .dataframe tbody tr th:only-of-type {\n",
       "        vertical-align: middle;\n",
       "    }\n",
       "\n",
       "    .dataframe tbody tr th {\n",
       "        vertical-align: top;\n",
       "    }\n",
       "\n",
       "    .dataframe thead th {\n",
       "        text-align: right;\n",
       "    }\n",
       "</style>\n",
       "<table border=\"1\" class=\"dataframe\">\n",
       "  <thead>\n",
       "    <tr style=\"text-align: right;\">\n",
       "      <th></th>\n",
       "      <th>Candy</th>\n",
       "      <th>Fat</th>\n",
       "      <th>Salt</th>\n",
       "      <th>Sugar</th>\n",
       "      <th>Deliciousness</th>\n",
       "      <th>Price</th>\n",
       "    </tr>\n",
       "  </thead>\n",
       "  <tbody>\n",
       "    <tr>\n",
       "      <th>0</th>\n",
       "      <td>Reeses</td>\n",
       "      <td>0.20</td>\n",
       "      <td>0.02</td>\n",
       "      <td>0.15</td>\n",
       "      <td>0.82</td>\n",
       "      <td>0.64</td>\n",
       "    </tr>\n",
       "    <tr>\n",
       "      <th>1</th>\n",
       "      <td>Hersheys</td>\n",
       "      <td>0.09</td>\n",
       "      <td>0.01</td>\n",
       "      <td>0.09</td>\n",
       "      <td>0.64</td>\n",
       "      <td>0.55</td>\n",
       "    </tr>\n",
       "    <tr>\n",
       "      <th>2</th>\n",
       "      <td>Milky Way</td>\n",
       "      <td>0.07</td>\n",
       "      <td>0.02</td>\n",
       "      <td>0.11</td>\n",
       "      <td>0.71</td>\n",
       "      <td>0.61</td>\n",
       "    </tr>\n",
       "    <tr>\n",
       "      <th>3</th>\n",
       "      <td>3 Musketeers</td>\n",
       "      <td>0.05</td>\n",
       "      <td>0.02</td>\n",
       "      <td>0.18</td>\n",
       "      <td>0.50</td>\n",
       "      <td>0.45</td>\n",
       "    </tr>\n",
       "    <tr>\n",
       "      <th>4</th>\n",
       "      <td>Twix</td>\n",
       "      <td>0.20</td>\n",
       "      <td>0.03</td>\n",
       "      <td>0.16</td>\n",
       "      <td>0.90</td>\n",
       "      <td>0.69</td>\n",
       "    </tr>\n",
       "    <tr>\n",
       "      <th>5</th>\n",
       "      <td>Skittles</td>\n",
       "      <td>0.01</td>\n",
       "      <td>0.00</td>\n",
       "      <td>0.30</td>\n",
       "      <td>0.30</td>\n",
       "      <td>0.15</td>\n",
       "    </tr>\n",
       "    <tr>\n",
       "      <th>6</th>\n",
       "      <td>Starburst</td>\n",
       "      <td>0.03</td>\n",
       "      <td>0.00</td>\n",
       "      <td>0.20</td>\n",
       "      <td>0.34</td>\n",
       "      <td>0.21</td>\n",
       "    </tr>\n",
       "    <tr>\n",
       "      <th>7</th>\n",
       "      <td>Hubba Bubba</td>\n",
       "      <td>0.00</td>\n",
       "      <td>0.00</td>\n",
       "      <td>0.10</td>\n",
       "      <td>0.04</td>\n",
       "      <td>0.05</td>\n",
       "    </tr>\n",
       "  </tbody>\n",
       "</table>\n",
       "</div>"
      ],
      "text/plain": [
       "          Candy   Fat  Salt  Sugar  Deliciousness  Price\n",
       "0        Reeses  0.20  0.02   0.15           0.82   0.64\n",
       "1      Hersheys  0.09  0.01   0.09           0.64   0.55\n",
       "2     Milky Way  0.07  0.02   0.11           0.71   0.61\n",
       "3  3 Musketeers  0.05  0.02   0.18           0.50   0.45\n",
       "4          Twix  0.20  0.03   0.16           0.90   0.69\n",
       "5      Skittles  0.01  0.00   0.30           0.30   0.15\n",
       "6     Starburst  0.03  0.00   0.20           0.34   0.21\n",
       "7   Hubba Bubba  0.00  0.00   0.10           0.04   0.05"
      ]
     },
     "execution_count": 3,
     "metadata": {},
     "output_type": "execute_result"
    }
   ],
   "source": [
    "candy"
   ]
  },
  {
   "cell_type": "code",
   "execution_count": 4,
   "id": "e8bf8fa0",
   "metadata": {},
   "outputs": [
    {
     "data": {
      "text/plain": [
       "Fat              0.08125\n",
       "Salt             0.01250\n",
       "Sugar            0.16125\n",
       "Deliciousness    0.53125\n",
       "Price            0.41875\n",
       "dtype: float64"
      ]
     },
     "execution_count": 4,
     "metadata": {},
     "output_type": "execute_result"
    }
   ],
   "source": [
    "candy.mean()"
   ]
  },
  {
   "cell_type": "code",
   "execution_count": 5,
   "id": "710f0252",
   "metadata": {},
   "outputs": [],
   "source": [
    "model = LpProblem(\"Halloween Basket Problem\", LpMinimize)"
   ]
  },
  {
   "cell_type": "code",
   "execution_count": 6,
   "id": "5d72d32b",
   "metadata": {},
   "outputs": [],
   "source": [
    "reeses = LpVariable(\"Reeses\", 1, None, LpInteger)\n",
    "hersheys = LpVariable(\"Hersheys\", 1, None, LpInteger)\n",
    "milkyway = LpVariable(\"MilkyWay\", 1, None, LpInteger)\n",
    "musketeer = LpVariable(\"ThreeMusketeers\", 1, None, LpInteger)\n",
    "twix = LpVariable(\"Twix\", 1, None, LpInteger)\n",
    "skittles = LpVariable(\"Skittles\", 1, None, LpInteger)\n",
    "starburst = LpVariable(\"Starburst\", 1, None, LpInteger)\n",
    "hubbabubba = LpVariable(\"HubbaBubba\", 1, None, LpInteger)\n",
    "\n",
    "variables = [reeses, hersheys, milkyway, musketeer, twix, skittles, starburst, hubbabubba]"
   ]
  },
  {
   "cell_type": "markdown",
   "id": "c2de2133",
   "metadata": {},
   "source": [
    "Objective Function"
   ]
  },
  {
   "cell_type": "code",
   "execution_count": 7,
   "id": "461af160",
   "metadata": {},
   "outputs": [],
   "source": [
    "objective_function = []\n",
    "for ix, price in enumerate(candy.Price):\n",
    "    objective_function.append(price * variables[ix])\n",
    "    \n",
    "model += lpSum(objective_function), \"Total Cost of Candies\""
   ]
  },
  {
   "cell_type": "code",
   "execution_count": 8,
   "id": "a72a4400",
   "metadata": {},
   "outputs": [],
   "source": [
    "fat = []\n",
    "for ix, f in enumerate(candy.Fat):\n",
    "    fat.append(f * variables[ix])\n",
    "\n",
    "salt = []\n",
    "for ix, s in enumerate(candy.Salt):\n",
    "    salt.append(s * variables[ix])    \n",
    "    \n",
    "sugar = []\n",
    "for ix, su in enumerate(candy.Sugar):\n",
    "    sugar.append(su * variables[ix])        \n",
    "    \n",
    "deliciousness = []\n",
    "for ix, d in enumerate(candy.Deliciousness):\n",
    "    deliciousness.append(d * variables[ix])"
   ]
  },
  {
   "cell_type": "code",
   "execution_count": 9,
   "id": "2c6ac6ab",
   "metadata": {},
   "outputs": [],
   "source": [
    "model += lpSum(deliciousness) >= 50, \"Deliciousness Constraint\"\n",
    "model += lpSum(fat) <= 6, \"Fat Constraint\"\n",
    "model += lpSum(salt) <= 1.2, \"Salt Constraint\"\n",
    "model += lpSum(sugar) <= 13, \"Sugar Constraint\"\n",
    "\n",
    "model += lpSum(variables) == 100, \"Percentage Sum (full basket constraint)\"\n",
    "\n",
    "#for v in variables:\n",
    "#    model += v > 0, f\"{v.name} is in basket Constraint\""
   ]
  },
  {
   "cell_type": "code",
   "execution_count": 10,
   "id": "7cb3098c",
   "metadata": {
    "scrolled": true
   },
   "outputs": [
    {
     "name": "stdout",
     "output_type": "stream",
     "text": [
      "Welcome to the CBC MILP Solver \n",
      "Version: 2.10.3 \n",
      "Build Date: Dec 15 2019 \n",
      "\n",
      "command line - /Users/brandonrose/opt/anaconda3/envs/b39/lib/python3.9/site-packages/pulp/apis/../solverdir/cbc/osx/64/cbc /var/folders/pp/vgfp1wf143q46m_8v6qbt3bw0000gn/T/5004c51d90d544fbb209ae26c7637fb4-pulp.mps timeMode elapsed branch printingOptions all solution /var/folders/pp/vgfp1wf143q46m_8v6qbt3bw0000gn/T/5004c51d90d544fbb209ae26c7637fb4-pulp.sol (default strategy 1)\n",
      "At line 2 NAME          MODEL\n",
      "At line 3 ROWS\n",
      "At line 10 COLUMNS\n",
      "At line 71 RHS\n",
      "At line 77 BOUNDS\n",
      "At line 86 ENDATA\n",
      "Problem MODEL has 5 rows, 8 columns and 36 elements\n",
      "Coin0008I MODEL read with 0 errors\n",
      "Option for timeMode changed from cpu to elapsed\n",
      "Continuous objective value is 40.6177 - 0.00 seconds\n",
      "Cgl0004I processed model has 5 rows, 8 columns (8 integer (0 of which binary)) and 36 elements\n",
      "Cutoff increment increased from 1e-05 to 0.00999\n",
      "Cbc0012I Integer solution of 40.83 found by DiveCoefficient after 0 iterations and 0 nodes (0.02 seconds)\n",
      "Cbc0038I Full problem 5 rows 8 columns, reduced to 5 rows 5 columns\n",
      "Cbc0012I Integer solution of 40.75 found by DiveCoefficient after 45 iterations and 0 nodes (0.02 seconds)\n",
      "Cbc0031I 4 added rows had average density of 8\n",
      "Cbc0013I At root node, 4 cuts changed objective from 40.61766 to 40.749997 in 16 passes\n",
      "Cbc0014I Cut generator 0 (Probing) - 0 row cuts average 0.0 elements, 1 column cuts (1 active)  in 0.000 seconds - new frequency is 1\n",
      "Cbc0014I Cut generator 1 (Gomory) - 48 row cuts average 8.0 elements, 0 column cuts (0 active)  in 0.000 seconds - new frequency is 1\n",
      "Cbc0014I Cut generator 2 (Knapsack) - 0 row cuts average 0.0 elements, 0 column cuts (0 active)  in 0.000 seconds - new frequency is -100\n",
      "Cbc0014I Cut generator 3 (Clique) - 0 row cuts average 0.0 elements, 0 column cuts (0 active)  in 0.000 seconds - new frequency is -100\n",
      "Cbc0014I Cut generator 4 (MixedIntegerRounding2) - 0 row cuts average 0.0 elements, 0 column cuts (0 active)  in 0.000 seconds - new frequency is -100\n",
      "Cbc0014I Cut generator 5 (FlowCover) - 0 row cuts average 0.0 elements, 0 column cuts (0 active)  in 0.000 seconds - new frequency is -100\n",
      "Cbc0014I Cut generator 6 (TwoMirCuts) - 25 row cuts average 7.4 elements, 0 column cuts (0 active)  in 0.000 seconds - new frequency is -100\n",
      "Cbc0001I Search completed - best objective 40.75000000000001, took 45 iterations and 0 nodes (0.02 seconds)\n",
      "Cbc0035I Maximum depth 0, 0 variables fixed on reduced cost\n",
      "Cuts at root node changed objective from 40.6177 to 40.75\n",
      "Probing was tried 16 times and created 1 cuts of which 0 were active after adding rounds of cuts (0.000 seconds)\n",
      "Gomory was tried 16 times and created 48 cuts of which 0 were active after adding rounds of cuts (0.000 seconds)\n",
      "Knapsack was tried 16 times and created 0 cuts of which 0 were active after adding rounds of cuts (0.000 seconds)\n",
      "Clique was tried 16 times and created 0 cuts of which 0 were active after adding rounds of cuts (0.000 seconds)\n",
      "MixedIntegerRounding2 was tried "
     ]
    },
    {
     "data": {
      "text/plain": [
       "1"
      ]
     },
     "execution_count": 10,
     "metadata": {},
     "output_type": "execute_result"
    }
   ],
   "source": [
    "model.solve()"
   ]
  },
  {
   "cell_type": "code",
   "execution_count": 12,
   "id": "86866602",
   "metadata": {},
   "outputs": [
    {
     "name": "stdout",
     "output_type": "stream",
     "text": [
      "status: 1, Optimal\n",
      "objective: 40.75\n",
      "\n",
      "\n",
      "Hersheys: 37.0\n",
      "HubbaBubba: 12.0\n",
      "MilkyWay: 20.0\n",
      "Reeses: 1.0\n",
      "Skittles: 1.0\n",
      "Starburst: 27.0\n",
      "ThreeMusketeers: 1.0\n",
      "Twix: 1.0\n",
      "\n",
      "\n",
      "Deliciousness_Constraint: 0.06000000000000183\n",
      "Fat_Constraint: 3.3306690738754696e-16\n",
      "Salt_Constraint: -0.3599999999999999\n",
      "Sugar_Constraint: -0.07999999999999918\n",
      "Percentage_Sum_(full_basket_constraint): 0.0\n"
     ]
    }
   ],
   "source": [
    "print(f\"status: {model.status}, {LpStatus[model.status]}\")\n",
    "print(f\"objective: {model.objective.value()}\")\n",
    "print('\\n')\n",
    "\n",
    "for var in model.variables():\n",
    "    print(f\"{var.name}: {var.value()}\")\n",
    "\n",
    "print('\\n')\n",
    "for name, constraint in model.constraints.items():\n",
    "    print(f\"{name}: {constraint.value()}\")"
   ]
  }
 ],
 "metadata": {
  "kernelspec": {
   "display_name": "Python 3 (ipykernel)",
   "language": "python",
   "name": "python3"
  },
  "language_info": {
   "codemirror_mode": {
    "name": "ipython",
    "version": 3
   },
   "file_extension": ".py",
   "mimetype": "text/x-python",
   "name": "python",
   "nbconvert_exporter": "python",
   "pygments_lexer": "ipython3",
   "version": "3.9.7"
  }
 },
 "nbformat": 4,
 "nbformat_minor": 5
}
