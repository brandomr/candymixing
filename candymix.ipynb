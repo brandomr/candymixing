{
 "cells": [
  {
   "cell_type": "markdown",
   "id": "1f2aac1a",
   "metadata": {},
   "source": [
    "# Halloween Candy Basket\n",
    "\n",
    "<img src=\"candy_basket.jpeg\" style=\"max-width:200px;margin-left: 0; margin-right: auto;\"/>\n",
    "\n",
    "Goal: create a basket of 50 candies that minimizes cost and has\n",
    "\n",
    "* an average deliciousness of at least 50%\n",
    "* no more than 6% average fat content per piece of candy\n",
    "* no more than 1.2% average salt per piece\n",
    "* no more than 13% average sugar per piece\n",
    "* contains at least some of each candy"
   ]
  },
  {
   "cell_type": "code",
   "execution_count": 1,
   "id": "0f5d6576",
   "metadata": {},
   "outputs": [],
   "source": [
    "import warnings\n",
    "warnings.filterwarnings(\"ignore\")\n",
    "import pandas as pd\n",
    "from pulp import *"
   ]
  },
  {
   "cell_type": "code",
   "execution_count": 2,
   "id": "7e2f0bc4",
   "metadata": {},
   "outputs": [],
   "source": [
    "candy = pd.read_csv('candy.csv')"
   ]
  },
  {
   "cell_type": "code",
   "execution_count": 3,
   "id": "9921f678",
   "metadata": {},
   "outputs": [
    {
     "data": {
      "text/html": [
       "<div>\n",
       "<style scoped>\n",
       "    .dataframe tbody tr th:only-of-type {\n",
       "        vertical-align: middle;\n",
       "    }\n",
       "\n",
       "    .dataframe tbody tr th {\n",
       "        vertical-align: top;\n",
       "    }\n",
       "\n",
       "    .dataframe thead th {\n",
       "        text-align: right;\n",
       "    }\n",
       "</style>\n",
       "<table border=\"1\" class=\"dataframe\">\n",
       "  <thead>\n",
       "    <tr style=\"text-align: right;\">\n",
       "      <th></th>\n",
       "      <th>Candy</th>\n",
       "      <th>Fat</th>\n",
       "      <th>Salt</th>\n",
       "      <th>Sugar</th>\n",
       "      <th>Deliciousness</th>\n",
       "      <th>Price</th>\n",
       "    </tr>\n",
       "  </thead>\n",
       "  <tbody>\n",
       "    <tr>\n",
       "      <th>0</th>\n",
       "      <td>Reeses</td>\n",
       "      <td>0.20</td>\n",
       "      <td>0.02</td>\n",
       "      <td>0.15</td>\n",
       "      <td>0.82</td>\n",
       "      <td>0.64</td>\n",
       "    </tr>\n",
       "    <tr>\n",
       "      <th>1</th>\n",
       "      <td>Hersheys</td>\n",
       "      <td>0.09</td>\n",
       "      <td>0.01</td>\n",
       "      <td>0.09</td>\n",
       "      <td>0.64</td>\n",
       "      <td>0.55</td>\n",
       "    </tr>\n",
       "    <tr>\n",
       "      <th>2</th>\n",
       "      <td>Milky Way</td>\n",
       "      <td>0.07</td>\n",
       "      <td>0.02</td>\n",
       "      <td>0.11</td>\n",
       "      <td>0.71</td>\n",
       "      <td>0.61</td>\n",
       "    </tr>\n",
       "    <tr>\n",
       "      <th>3</th>\n",
       "      <td>3 Musketeers</td>\n",
       "      <td>0.05</td>\n",
       "      <td>0.02</td>\n",
       "      <td>0.18</td>\n",
       "      <td>0.50</td>\n",
       "      <td>0.45</td>\n",
       "    </tr>\n",
       "    <tr>\n",
       "      <th>4</th>\n",
       "      <td>Twix</td>\n",
       "      <td>0.20</td>\n",
       "      <td>0.03</td>\n",
       "      <td>0.16</td>\n",
       "      <td>0.90</td>\n",
       "      <td>0.69</td>\n",
       "    </tr>\n",
       "    <tr>\n",
       "      <th>5</th>\n",
       "      <td>Skittles</td>\n",
       "      <td>0.01</td>\n",
       "      <td>0.00</td>\n",
       "      <td>0.30</td>\n",
       "      <td>0.30</td>\n",
       "      <td>0.15</td>\n",
       "    </tr>\n",
       "    <tr>\n",
       "      <th>6</th>\n",
       "      <td>Starburst</td>\n",
       "      <td>0.03</td>\n",
       "      <td>0.00</td>\n",
       "      <td>0.20</td>\n",
       "      <td>0.34</td>\n",
       "      <td>0.21</td>\n",
       "    </tr>\n",
       "    <tr>\n",
       "      <th>7</th>\n",
       "      <td>Hubba Bubba</td>\n",
       "      <td>0.00</td>\n",
       "      <td>0.00</td>\n",
       "      <td>0.10</td>\n",
       "      <td>0.04</td>\n",
       "      <td>0.05</td>\n",
       "    </tr>\n",
       "  </tbody>\n",
       "</table>\n",
       "</div>"
      ],
      "text/plain": [
       "          Candy   Fat  Salt  Sugar  Deliciousness  Price\n",
       "0        Reeses  0.20  0.02   0.15           0.82   0.64\n",
       "1      Hersheys  0.09  0.01   0.09           0.64   0.55\n",
       "2     Milky Way  0.07  0.02   0.11           0.71   0.61\n",
       "3  3 Musketeers  0.05  0.02   0.18           0.50   0.45\n",
       "4          Twix  0.20  0.03   0.16           0.90   0.69\n",
       "5      Skittles  0.01  0.00   0.30           0.30   0.15\n",
       "6     Starburst  0.03  0.00   0.20           0.34   0.21\n",
       "7   Hubba Bubba  0.00  0.00   0.10           0.04   0.05"
      ]
     },
     "execution_count": 3,
     "metadata": {},
     "output_type": "execute_result"
    }
   ],
   "source": [
    "candy"
   ]
  },
  {
   "cell_type": "markdown",
   "id": "0311b080",
   "metadata": {},
   "source": [
    "### Problem set up"
   ]
  },
  {
   "cell_type": "code",
   "execution_count": 4,
   "id": "bda85151",
   "metadata": {},
   "outputs": [],
   "source": [
    "model = LpProblem(\"Halloween Basket Problem\", LpMinimize)"
   ]
  },
  {
   "cell_type": "markdown",
   "id": "94368e21",
   "metadata": {},
   "source": [
    "First we define our variables. Each piece of candy is an integer.\n",
    "\n",
    "The basket has to contain at least 1 of each candy."
   ]
  },
  {
   "cell_type": "code",
   "execution_count": 5,
   "id": "d9622e89",
   "metadata": {},
   "outputs": [],
   "source": [
    "reeses = LpVariable(\"Reeses\", lowBound=1, cat=LpInteger)\n",
    "hersheys = LpVariable(\"Hersheys\", lowBound=1, cat=LpInteger)\n",
    "milkyway = LpVariable(\"Milky_Way\", lowBound=1, cat=LpInteger)\n",
    "musketeer = LpVariable(\"3_Musketeers\", lowBound=1, cat=LpInteger)\n",
    "twix = LpVariable(\"Twix\", lowBound=1, cat=LpInteger)\n",
    "skittles = LpVariable(\"Skittles\", lowBound=1, cat=LpInteger)\n",
    "starburst = LpVariable(\"Starburst\", lowBound=1, cat=LpInteger)\n",
    "hubbabubba = LpVariable(\"Hubba_Bubba\", lowBound=1, cat=LpInteger)\n",
    "\n",
    "variables = [reeses, hersheys, milkyway, musketeer, twix, skittles, starburst, hubbabubba]"
   ]
  },
  {
   "cell_type": "markdown",
   "id": "e749bdf8",
   "metadata": {},
   "source": [
    "### Objective Function\n",
    "Here we define what we are trying to minimize. In this case it's the cost of our Halloween basket."
   ]
  },
  {
   "cell_type": "code",
   "execution_count": 6,
   "id": "d4ecebfc",
   "metadata": {},
   "outputs": [],
   "source": [
    "objective_function = []\n",
    "\n",
    "for var in variables:\n",
    "    var_name = var.name.replace('_',' ')\n",
    "    price = candy[candy['Candy']==var_name].Price.iloc[0]\n",
    "    objective_function.append(price * var)\n",
    "\n",
    "model += lpSum(objective_function), \"Total Cost of Candies\""
   ]
  },
  {
   "cell_type": "markdown",
   "id": "87bdaeae",
   "metadata": {},
   "source": [
    "We can inspect our model and see that the we now have a minimization objective and a set of candy variables, each of which must be at least 1."
   ]
  },
  {
   "cell_type": "code",
   "execution_count": 7,
   "id": "87a03adf",
   "metadata": {},
   "outputs": [
    {
     "data": {
      "text/plain": [
       "Halloween_Basket_Problem:\n",
       "MINIMIZE\n",
       "0.45*3_Musketeers + 0.55*Hersheys + 0.05*Hubba_Bubba + 0.61*Milky_Way + 0.64*Reeses + 0.15*Skittles + 0.21*Starburst + 0.69*Twix + 0.0\n",
       "VARIABLES\n",
       "1 <= 3_Musketeers Integer\n",
       "1 <= Hersheys Integer\n",
       "1 <= Hubba_Bubba Integer\n",
       "1 <= Milky_Way Integer\n",
       "1 <= Reeses Integer\n",
       "1 <= Skittles Integer\n",
       "1 <= Starburst Integer\n",
       "1 <= Twix Integer"
      ]
     },
     "execution_count": 7,
     "metadata": {},
     "output_type": "execute_result"
    }
   ],
   "source": [
    "model"
   ]
  },
  {
   "cell_type": "markdown",
   "id": "3310fcf4",
   "metadata": {},
   "source": [
    "### Adding constraints\n",
    "Now we add the various constraints around delciousness, nutritional content, and the size of the Halloween basket."
   ]
  },
  {
   "cell_type": "code",
   "execution_count": 8,
   "id": "6f3b01c2",
   "metadata": {},
   "outputs": [],
   "source": [
    "fat = []\n",
    "for ix, f in enumerate(candy.Fat):\n",
    "    fat.append(f * variables[ix])\n",
    "\n",
    "salt = []\n",
    "for ix, s in enumerate(candy.Salt):\n",
    "    salt.append(s * variables[ix])    \n",
    "    \n",
    "sugar = []\n",
    "for ix, su in enumerate(candy.Sugar):\n",
    "    sugar.append(su * variables[ix])        \n",
    "    \n",
    "deliciousness = []\n",
    "for ix, d in enumerate(candy.Deliciousness):\n",
    "    deliciousness.append(d * variables[ix])"
   ]
  },
  {
   "cell_type": "code",
   "execution_count": 9,
   "id": "775b0ab9",
   "metadata": {},
   "outputs": [],
   "source": [
    "model += lpSum(deliciousness)/50 >= 0.5, \"Deliciousness Constraint\"\n",
    "model += lpSum(fat)/50 <= 0.06, \"Fat Constraint\"\n",
    "model += lpSum(salt)/50 <= 0.012, \"Salt Constraint\"\n",
    "model += lpSum(sugar)/50 <= 0.13, \"Sugar Constraint\"\n",
    "\n",
    "model += lpSum(variables) == 50, \"At least 50 candies\""
   ]
  },
  {
   "cell_type": "markdown",
   "id": "78d0032e",
   "metadata": {},
   "source": [
    "We can take a look at our model to make sure that the constraints look correct. \n",
    "\n",
    "> Note: don't forget that our main constraints are weighted averages, that's why coefficients are small (they are the nutritional values divided by 50)!"
   ]
  },
  {
   "cell_type": "code",
   "execution_count": 10,
   "id": "60d1cc70",
   "metadata": {},
   "outputs": [
    {
     "data": {
      "text/plain": [
       "Halloween_Basket_Problem:\n",
       "MINIMIZE\n",
       "0.45*3_Musketeers + 0.55*Hersheys + 0.05*Hubba_Bubba + 0.61*Milky_Way + 0.64*Reeses + 0.15*Skittles + 0.21*Starburst + 0.69*Twix + 0.0\n",
       "SUBJECT TO\n",
       "Deliciousness_Constraint: 0.01 3_Musketeers + 0.0128 Hersheys\n",
       " + 0.0008 Hubba_Bubba + 0.0142 Milky_Way + 0.0164 Reeses + 0.006 Skittles\n",
       " + 0.0068 Starburst + 0.018 Twix >= 0.5\n",
       "\n",
       "Fat_Constraint: 0.001 3_Musketeers + 0.0018 Hersheys + 0.0014 Milky_Way\n",
       " + 0.004 Reeses + 0.0002 Skittles + 0.0006 Starburst + 0.004 Twix <= 0.06\n",
       "\n",
       "Salt_Constraint: 0.0004 3_Musketeers + 0.0002 Hersheys + 0.0004 Milky_Way\n",
       " + 0.0004 Reeses + 0.0006 Twix <= 0.012\n",
       "\n",
       "Sugar_Constraint: 0.0036 3_Musketeers + 0.0018 Hersheys + 0.002 Hubba_Bubba\n",
       " + 0.0022 Milky_Way + 0.003 Reeses + 0.006 Skittles + 0.004 Starburst\n",
       " + 0.0032 Twix <= 0.13\n",
       "\n",
       "At_least_50_candies: 3_Musketeers + Hersheys + Hubba_Bubba + Milky_Way\n",
       " + Reeses + Skittles + Starburst + Twix = 50\n",
       "\n",
       "VARIABLES\n",
       "1 <= 3_Musketeers Integer\n",
       "1 <= Hersheys Integer\n",
       "1 <= Hubba_Bubba Integer\n",
       "1 <= Milky_Way Integer\n",
       "1 <= Reeses Integer\n",
       "1 <= Skittles Integer\n",
       "1 <= Starburst Integer\n",
       "1 <= Twix Integer"
      ]
     },
     "execution_count": 10,
     "metadata": {},
     "output_type": "execute_result"
    }
   ],
   "source": [
    "model"
   ]
  },
  {
   "cell_type": "markdown",
   "id": "89c7a98c",
   "metadata": {},
   "source": [
    "### Running the model and inspecting the results"
   ]
  },
  {
   "cell_type": "code",
   "execution_count": 11,
   "id": "20512dec",
   "metadata": {
    "scrolled": false
   },
   "outputs": [
    {
     "name": "stdout",
     "output_type": "stream",
     "text": [
      "Welcome to the CBC MILP Solver \n",
      "Version: 2.10.3 \n",
      "Build Date: Dec 15 2019 \n",
      "\n",
      "command line - /Users/brandonrose/opt/anaconda3/envs/b39/lib/python3.9/site-packages/pulp/apis/../solverdir/cbc/osx/64/cbc /var/folders/pp/vgfp1wf143q46m_8v6qbt3bw0000gn/T/2688bd15ea57405e954183341a19129a-pulp.mps timeMode elapsed branch printingOptions all solution /var/folders/pp/vgfp1wf143q46m_8v6qbt3bw0000gn/T/2688bd15ea57405e954183341a19129a-pulp.sol (default strategy 1)\n",
      "At line 2 NAME          MODEL\n",
      "At line 3 ROWS\n",
      "At line 10 COLUMNS\n",
      "At line 71 RHS\n",
      "At line 77 BOUNDS\n",
      "At line 86 ENDATA\n",
      "Problem MODEL has 5 rows, 8 columns and 36 elements\n",
      "Coin0008I MODEL read with 0 errors\n",
      "Option for timeMode changed from cpu to elapsed\n",
      "Continuous objective value is 20.4348 - 0.00 seconds\n",
      "Cgl0004I processed model has 5 rows, 8 columns (8 integer (0 of which binary)) and 36 elements\n",
      "Cutoff increment increased from 1e-05 to 0.00999\n",
      "Cbc0012I Integer solution of 20.55 found by DiveCoefficient after 59 iterations and 0 nodes (0.01 seconds)\n",
      "Cbc0031I 4 added rows had average density of 8\n",
      "Cbc0013I At root node, 4 cuts changed objective from 20.434818 to 20.548563 in 21 passes\n",
      "Cbc0014I Cut generator 0 (Probing) - 0 row cuts average 0.0 elements, 1 column cuts (1 active)  in 0.001 seconds - new frequency is -100\n",
      "Cbc0014I Cut generator 1 (Gomory) - 76 row cuts average 8.0 elements, 0 column cuts (0 active)  in 0.001 seconds - new frequency is 1\n",
      "Cbc0014I Cut generator 2 (Knapsack) - 0 row cuts average 0.0 elements, 0 column cuts (0 active)  in 0.000 seconds - new frequency is -100\n",
      "Cbc0014I Cut generator 3 (Clique) - 0 row cuts average 0.0 elements, 0 column cuts (0 active)  in 0.000 seconds - new frequency is -100\n",
      "Cbc0014I Cut generator 4 (MixedIntegerRounding2) - 0 row cuts average 0.0 elements, 0 column cuts (0 active)  in 0.000 seconds - new frequency is -100\n",
      "Cbc0014I Cut generator 5 (FlowCover) - 0 row cuts average 0.0 elements, 0 column cuts (0 active)  in 0.001 seconds - new frequency is -100\n",
      "Cbc0014I Cut generator 6 (TwoMirCuts) - 34 row cuts average 7.8 elements, 0 column cuts (0 active)  in 0.000 seconds - new frequency is 1\n",
      "Cbc0001I Search completed - best objective 20.55, took 59 iterations and 0 nodes (0.01 seconds)\n",
      "Cbc0035I Maximum depth 0, 0 variables fixed on reduced cost\n",
      "Cuts at root node changed objective from 20.4348 to 20.5486\n",
      "Probing was tried 21 times and created 1 cuts of which 0 were active after adding rounds of cuts (0.001 seconds)\n",
      "Gomory was tried 21 times and created 76 cuts of which 0 were active after adding rounds of cuts (0.001 seconds)\n",
      "Knapsack was tried 21 times and created 0 cuts of which 0 were active after adding rounds of cuts (0.000 seconds)\n",
      "Clique was tried 21 times and created 0 cuts of which 0 were active after adding rounds of cuts (0.000 seconds)\n",
      "MixedIntegerRounding2 was tried 21 times and created 0 cuts of which 0 were active after adding rounds of cuts (0.000 seconds)\n",
      "FlowCover was tried 21 times and created 0 cuts of which 0 were active after adding rounds of cuts (0.001 seconds)\n",
      "TwoMirCuts was tried 21 times and created 34 cuts of which 0 were active after adding rounds of cuts (0.000 seconds)\n",
      "ZeroHalf was tried 1 times and created 0 cuts of which 0 were active after adding rounds of cuts (0.000 seconds)\n",
      "\n",
      "Result - Optimal solution found\n",
      "\n",
      "Objective value:                20.55000000\n",
      "Enumerated nodes:               0\n",
      "Total iterations:               59\n",
      "Time (CPU seconds):             0.01\n",
      "Time (Wallclock seconds):       0.01\n",
      "\n",
      "Option for printingOptions changed from normal to all\n",
      "Total time (CPU seconds):       0.01   (Wallclock seconds):       0.01\n",
      "\n"
     ]
    },
    {
     "data": {
      "text/plain": [
       "1"
      ]
     },
     "execution_count": 11,
     "metadata": {},
     "output_type": "execute_result"
    }
   ],
   "source": [
    "model.solve()"
   ]
  },
  {
   "cell_type": "code",
   "execution_count": 12,
   "id": "c15b7e03",
   "metadata": {},
   "outputs": [
    {
     "name": "stdout",
     "output_type": "stream",
     "text": [
      "status: 1, Optimal\n",
      "objective: 20.55\n",
      "\n",
      "\n",
      "3 Musketeers: 1.0\n",
      "Hersheys: 15.0\n",
      "Hubba Bubba: 8.0\n",
      "Milky Way: 13.0\n",
      "Reeses: 1.0\n",
      "Skittles: 2.0\n",
      "Starburst: 9.0\n",
      "Twix: 1.0\n"
     ]
    }
   ],
   "source": [
    "print(f\"status: {model.status}, {LpStatus[model.status]}\")\n",
    "print(f\"objective: {model.objective.value()}\")\n",
    "print('\\n')\n",
    "\n",
    "for var in model.variables():\n",
    "    print(f\"{var.name.replace('_',' ')}: {var.value()}\")"
   ]
  },
  {
   "cell_type": "markdown",
   "id": "fa27bfdd",
   "metadata": {},
   "source": [
    "### Constraint checking\n",
    "\n",
    "This can be done automatically but we can do it manually for a sanity check if we'd like. To print them automatically use:\n",
    "\n",
    "```\n",
    "for name, constraint in model.constraints.items():\n",
    "    print(f\"{name}: {constraint.value()}\")\n",
    "```"
   ]
  },
  {
   "cell_type": "code",
   "execution_count": 13,
   "id": "535ecaa1",
   "metadata": {},
   "outputs": [
    {
     "name": "stdout",
     "output_type": "stream",
     "text": [
      "Total size of candy basket: 50.0\n",
      "Fat: 0.06\n",
      "Salt: 0.01\n",
      "Sugar: 0.13\n",
      "Deliciousness: 0.5\n"
     ]
    }
   ],
   "source": [
    "basket = 0\n",
    "for var in model.variables():\n",
    "    basket += var.value()\n",
    "print(f\"Total size of candy basket: {basket}\")\n",
    "\n",
    "nutritions = ['Fat','Salt','Sugar','Deliciousness']\n",
    "\n",
    "for x in nutritions:\n",
    "    nutrition = 0\n",
    "    for var in model.variables():\n",
    "        nutrition += candy[candy['Candy']==var.name.replace('_',' ')][x].iloc[0] * var.value()\n",
    "    print(f\"{x}: {round(nutrition/50,2)}\")"
   ]
  }
 ],
 "metadata": {
  "kernelspec": {
   "display_name": "Python 3 (ipykernel)",
   "language": "python",
   "name": "python3"
  },
  "language_info": {
   "codemirror_mode": {
    "name": "ipython",
    "version": 3
   },
   "file_extension": ".py",
   "mimetype": "text/x-python",
   "name": "python",
   "nbconvert_exporter": "python",
   "pygments_lexer": "ipython3",
   "version": "3.9.7"
  }
 },
 "nbformat": 4,
 "nbformat_minor": 5
}
